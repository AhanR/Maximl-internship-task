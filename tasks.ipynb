{
  "nbformat": 4,
  "nbformat_minor": 0,
  "metadata": {
    "colab": {
      "provenance": [],
      "authorship_tag": "ABX9TyN8kg6ANZpcbWN7Qegos9N/",
      "include_colab_link": true
    },
    "kernelspec": {
      "name": "python3",
      "display_name": "Python 3"
    },
    "language_info": {
      "name": "python"
    }
  },
  "cells": [
    {
      "cell_type": "markdown",
      "metadata": {
        "id": "view-in-github",
        "colab_type": "text"
      },
      "source": [
        "<a href=\"https://colab.research.google.com/github/AhanR/Maximl-internship-task/blob/main/tasks.ipynb\" target=\"_parent\"><img src=\"https://colab.research.google.com/assets/colab-badge.svg\" alt=\"Open In Colab\"/></a>"
      ]
    },
    {
      "cell_type": "markdown",
      "source": [
        "# First Problem statement"
      ],
      "metadata": {
        "id": "rOcozqGUz3PN"
      }
    },
    {
      "cell_type": "code",
      "execution_count": null,
      "metadata": {
        "id": "Mgww3qXUzzOG"
      },
      "outputs": [],
      "source": [
        "words = [\"abcd\", \"dbca\", \"xyz\", \"def\", \"zyx\", \"cadb\", \"aabcd\",\"ghi\",\"cabda\",\"abaa\",\"abba\"]\n",
        "\n",
        "def execute_part1(words):\n",
        "  res = {}\n",
        "  # create a hash and add it to the dict with the other words with the same hash or create new entry if the hash is new\n",
        "  for word in words:\n",
        "    hash = wordHash(word)\n",
        "    if hash in res:\n",
        "      res[hash].append(word)\n",
        "    else:\n",
        "      res[hash] = [word]\n",
        "  for key in res:\n",
        "    print(\" \".join(res[key]))\n",
        "\n",
        "# create a character index based hashing technique\n",
        "def wordHash(word):\n",
        "  # the 0 is the frequency of the corresponding character appearing in the word\n",
        "  # every index can be converted to a letter starting at index 0-> character 'a'\n",
        "  hash = [0]*26\n",
        "  for c in word:\n",
        "    hash[ord(c)-ord(\"a\")] += 1\n",
        "  return str(hash)"
      ]
    },
    {
      "cell_type": "code",
      "source": [
        "execute_part1(words)"
      ],
      "metadata": {
        "colab": {
          "base_uri": "https://localhost:8080/"
        },
        "id": "52Sp7xiBA5sy",
        "outputId": "147cae69-ae44-41d8-cde1-c4d5f42b54cb"
      },
      "execution_count": null,
      "outputs": [
        {
          "output_type": "stream",
          "name": "stdout",
          "text": [
            "abcd dbca cadb\n",
            "xyz zyx\n",
            "def\n",
            "aabcd cabda\n",
            "ghi\n",
            "abaa\n",
            "abba\n"
          ]
        }
      ]
    },
    {
      "cell_type": "markdown",
      "source": [
        "# Second Problem Statement"
      ],
      "metadata": {
        "id": "D_59pKD3gDnk"
      }
    },
    {
      "cell_type": "code",
      "source": [
        "import cv2\n",
        "from google.colab.patches import cv2_imshow\n",
        "from tqdm import tqdm"
      ],
      "metadata": {
        "id": "rrWfqPWZfAjf"
      },
      "execution_count": null,
      "outputs": []
    },
    {
      "cell_type": "code",
      "source": [
        "def execute_part2(inputFile, outputFile = \"/content/part2_output.mp4\"):\n",
        "  # VIDEO_FILE -> the input video file\n",
        "  # VIDEO_OUT -> the file to be written to\n",
        "  VIDEO_FILE = inputFile\n",
        "  VIDEO_OUT = outputFile\n",
        "\n",
        "  # the hard upper bound below which the video does not need to be edited\n",
        "  UPPER_BOUND = 25\n",
        "\n",
        "  # cap -> video stream object\n",
        "  cap = cv2.VideoCapture(VIDEO_FILE)\n",
        "\n",
        "  # all the video properties\n",
        "  # n_frames -> number of frames in the video\n",
        "  # in_fps -> frames per second of the video\n",
        "  n_frames = int(cap.get(cv2.CAP_PROP_FRAME_COUNT))\n",
        "  in_fps = cap.get(cv2.CAP_PROP_FPS)\n",
        "  width = int(cap.get(cv2.CAP_PROP_FRAME_WIDTH))\n",
        "  height = int(cap.get(cv2.CAP_PROP_FRAME_HEIGHT))\n",
        "\n",
        "  # out_fps -> frames per second to be set in the output video (20 by default) or lower if the source video has lower than 25 fps\n",
        "  # codec -> the codec used to encode the video, other available options are MP4V\n",
        "  # fourcc -> fourcc codec code\n",
        "  # out -> the output stream\n",
        "  out_fps = 20 if in_fps > UPPER_BOUND else in_fps\n",
        "  codec = 'DIVX'\n",
        "  fourcc = cv2.VideoWriter_fourcc(*codec)\n",
        "  out =  cv2.VideoWriter(VIDEO_OUT, fourcc, out_fps, (width, height))\n",
        "\n",
        "  print(\"INPUT VIDEO STATS:\")\n",
        "  print(f\"frames : {n_frames} fps : {in_fps:0.2f} len : {n_frames/in_fps}\")\n",
        "  print(f\"w : {width} h : {height}\")\n",
        "  print()\n",
        "  print(\"OUTPUT SETTINGS:\")\n",
        "  print(f\"fps : {out_fps} codec : {codec} filePath : {VIDEO_OUT}\")\n",
        "  print()\n",
        "\n",
        "  # the time is in milli seconds\n",
        "  # tx -> the time taken per frame in the input video (source video)\n",
        "  # ty -> the time taken per fram in the output video (target video)\n",
        "  tx = 1000/in_fps \n",
        "  ty = 1000/out_fps\n",
        "\n",
        "  # outFrameNumber -> tracks the number of frames written to the target\n",
        "  # directOutFlag -> sets to true when we need to pass the video as is, i.e. when in_fps < 25\n",
        "  outFrameNumber = 0\n",
        "  directOutFlag = False if in_fps > UPPER_BOUND else True\n",
        "\n",
        "  for frame in tqdm(range(n_frames)):\n",
        "    # ret -> tells us if the next frame was read or not (True if successful and False if no more frames or not successful)\n",
        "    # img -> the next frame as an image\n",
        "    ret, img = cap.read()\n",
        "    if ret == False:\n",
        "      print(\"Operation Aborted\")\n",
        "      break\n",
        "    # converting from BGR to GRAYSCALE and back to get the greyscale image in BGR colour space\n",
        "    # adding in text\n",
        "    img = cv2.cvtColor(img, cv2.COLOR_BGR2GRAY)\n",
        "    img = cv2.cvtColor(img, cv2.COLOR_GRAY2BGR)\n",
        "    img = cv2.putText(img, \"Open CV\", (10,30), cv2.FONT_HERSHEY_SIMPLEX, 1, (0,0,0))\n",
        "\n",
        "    # if direct out is set, push data to out stream or else check if current frame must be sampled\n",
        "    if directOutFlag or outFrameNumber*ty <= frame*tx:\n",
        "      # write to output\n",
        "      # increment the total number of frames sampled (outFrameNumber)\n",
        "      out.write(img)\n",
        "      outFrameNumber+=1\n",
        "\n",
        "  out.release()\n",
        "  cap.release()\n",
        "  print(f\"\\nWritten frames {outFrameNumber}\")\n",
        "\n",
        "  print()\n",
        "\n",
        "  # some video stats for the new video file to cross check some values\n",
        "  cap = cv2.VideoCapture(VIDEO_OUT)\n",
        "  final_fps = cap.get(cv2.CAP_PROP_FPS)\n",
        "  n_frames = int(cap.get(cv2.CAP_PROP_FRAME_COUNT))\n",
        "  print(\"OUTPUT VIDEO STATS:\")\n",
        "  print(f\"frames : {n_frames} fps : {final_fps} len : {n_frames/final_fps}\")"
      ],
      "metadata": {
        "id": "x2GeTzObVWYL"
      },
      "execution_count": 152,
      "outputs": []
    },
    {
      "cell_type": "code",
      "source": [
        "execute_part2(\"/content/input4.mp4\")"
      ],
      "metadata": {
        "id": "HeVjo_-pbyhv",
        "colab": {
          "base_uri": "https://localhost:8080/"
        },
        "outputId": "3eac4882-7f1f-49e5-d936-d4e7a9673cd6"
      },
      "execution_count": 153,
      "outputs": [
        {
          "output_type": "stream",
          "name": "stdout",
          "text": [
            "INPUT VIDEO STATS:\n",
            "frames : 4053 fps : 30.00 len : 135.1\n",
            "w : 1280 h : 542\n",
            "\n",
            "OUTPUT SETTINGS:\n",
            "fps : 20 codec : DIVX filePath : /content/part2_output.mp4\n",
            "\n"
          ]
        },
        {
          "output_type": "stream",
          "name": "stderr",
          "text": [
            "100%|██████████| 4053/4053 [00:37<00:00, 109.48it/s]"
          ]
        },
        {
          "output_type": "stream",
          "name": "stdout",
          "text": [
            "\n",
            "Written frames 2702\n",
            "\n",
            "OUTPUT VIDEO STATS:\n",
            "frames : 2702 fps : 20.0 len : 135.1\n"
          ]
        },
        {
          "output_type": "stream",
          "name": "stderr",
          "text": [
            "\n"
          ]
        }
      ]
    },
    {
      "cell_type": "code",
      "source": [],
      "metadata": {
        "id": "5f66rDMnqjgh"
      },
      "execution_count": null,
      "outputs": []
    }
  ]
}